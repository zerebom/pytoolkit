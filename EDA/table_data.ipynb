{
 "cells": [
  {
   "cell_type": "code",
   "execution_count": null,
   "metadata": {},
   "outputs": [],
   "source": []
  },
  {
   "cell_type": "markdown",
   "metadata": {},
   "source": [
    "## 抽出"
   ]
  },
  {
   "cell_type": "markdown",
   "metadata": {},
   "source": [
    "### 文字列による抽出"
   ]
  },
  {
   "cell_type": "code",
   "execution_count": null,
   "metadata": {},
   "outputs": [],
   "source": [
    "card_cols=[c for c in train_tr.columns if 'card' in c]\n",
    "display(train_tr[card_cols].head(10))"
   ]
  },
  {
   "cell_type": "markdown",
   "metadata": {},
   "source": [
    "## 数値データ(Numeric)　"
   ]
  },
  {
   "cell_type": "markdown",
   "metadata": {},
   "source": [
    "### 統計量"
   ]
  },
  {
   "cell_type": "markdown",
   "metadata": {},
   "source": [
    "#### 目的変数で層別にした統計量"
   ]
  },
  {
   "cell_type": "code",
   "execution_count": null,
   "metadata": {},
   "outputs": [],
   "source": [
    "print(round(train_tr.loc[train_tr['isFraud']==0]['TransactionAmt'].mean()))\n",
    "print(round(train_tr.loc[train_tr['isFraud']==1]['TransactionAmt'].mean()))"
   ]
  },
  {
   "cell_type": "markdown",
   "metadata": {},
   "source": [
    "### histgram"
   ]
  },
  {
   "cell_type": "markdown",
   "metadata": {},
   "source": [
    "#### ある列の histgram"
   ]
  },
  {
   "cell_type": "code",
   "execution_count": null,
   "metadata": {},
   "outputs": [],
   "source": [
    "df[col].apply(np.log).plot(\n",
    "    kind='hist',\n",
    "    bins=100,\n",
    "    figsize=(15,5),\n",
    "    title='Distribution of Transaction Amt')\n",
    "plt.show()"
   ]
  },
  {
   "cell_type": "markdown",
   "metadata": {},
   "source": [
    "#### 目的変数によって層別にしたhistgram\n",
    "複数グラフの表示"
   ]
  },
  {
   "cell_type": "code",
   "execution_count": null,
   "metadata": {},
   "outputs": [],
   "source": [
    "def plot_hist_with_hue(df,hue_col,hue,target_col,title,color,ax,xlim=(-3,10),log=True):\n",
    "    if log:\n",
    "        df.loc[df[hue_col]==hue][target_col].apply(np.log).plot(kind='hist',bins=100,title=title,color=color,xlim=xlim,ax=ax)\n",
    "    else:\n",
    "        df.loc[df[hue_col]==hue][target_col].plot(kind='hist',bins=100,title=title,color=color,ax=ax)\n",
    "\n",
    "\n",
    "\n",
    "fig,((ax1,ax2),(ax3,ax4))=plt.subplots(2,2,figsize=(15,6))\n",
    "\n",
    "\n",
    "plot_hist_with_hue(df=train_tr,hue=0,hue_col='isFraud',target_col='TransactionAmt',title='log Amt Not Fraud',color=color_pal[0],ax=ax1,log=True)\n",
    "plot_hist_with_hue(df=train_tr,hue=1,hue_col='isFraud',target_col='TransactionAmt',title='log Amt  Fraud',color=color_pal[1],ax=ax2,log=True)\n",
    "plot_hist_with_hue(df=train_tr,hue=0,hue_col='isFraud',target_col='TransactionAmt',title='Amt Not Fraud',color=color_pal[0],ax=ax3,log=False)\n",
    "plot_hist_with_hue(df=train_tr,hue=1,hue_col='isFraud',target_col='TransactionAmt',title='Amt  Fraud',color=color_pal[1],ax=ax4,log=False)"
   ]
  },
  {
   "cell_type": "markdown",
   "metadata": {},
   "source": [
    "# Count Features"
   ]
  },
  {
   "cell_type": "code",
   "execution_count": null,
   "metadata": {},
   "outputs": [],
   "source": []
  }
 ],
 "metadata": {
  "kernelspec": {
   "display_name": "Python 3",
   "language": "python",
   "name": "python3"
  },
  "language_info": {
   "codemirror_mode": {
    "name": "ipython",
    "version": 3
   },
   "file_extension": ".py",
   "mimetype": "text/x-python",
   "name": "python",
   "nbconvert_exporter": "python",
   "pygments_lexer": "ipython3",
   "version": "3.6.8"
  }
 },
 "nbformat": 4,
 "nbformat_minor": 4
}
